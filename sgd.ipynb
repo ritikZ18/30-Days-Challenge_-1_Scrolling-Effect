{
  "nbformat": 4,
  "nbformat_minor": 0,
  "metadata": {
    "colab": {
      "provenance": [],
      "include_colab_link": true
    },
    "kernelspec": {
      "name": "python3",
      "display_name": "Python 3"
    },
    "language_info": {
      "name": "python"
    }
  },
  "cells": [
    {
      "cell_type": "markdown",
      "metadata": {
        "id": "view-in-github",
        "colab_type": "text"
      },
      "source": [
        "<a href=\"https://colab.research.google.com/github/ritikZ18/30-Days-Challenge_-1_Scrolling-Effect/blob/main/sgd.ipynb\" target=\"_parent\"><img src=\"https://colab.research.google.com/assets/colab-badge.svg\" alt=\"Open In Colab\"/></a>"
      ]
    },
    {
      "cell_type": "code",
      "execution_count": 1,
      "metadata": {
        "id": "bO-jjQWfbyNF"
      },
      "outputs": [],
      "source": [
        "import pandas as pd\n",
        "import numpy as np\n",
        "import tensorflow as tf"
      ]
    },
    {
      "cell_type": "code",
      "source": [
        "data = pd.read_csv('/content/heart.csv',sep = ',')\n",
        "data.head()\n"
      ],
      "metadata": {
        "colab": {
          "base_uri": "https://localhost:8080/",
          "height": 223
        },
        "id": "D92QTYMwcF3d",
        "outputId": "9195e6ed-d8b6-4a68-e1a1-95b625f950d8"
      },
      "execution_count": 2,
      "outputs": [
        {
          "output_type": "execute_result",
          "data": {
            "text/plain": [
              "   age  sex  chest pain type  resting bp s  cholesterol  fasting blood sugar  \\\n",
              "0   40    1                2           140          289                    0   \n",
              "1   49    0                3           160          180                    0   \n",
              "2   37    1                2           130          283                    0   \n",
              "3   48    0                4           138          214                    0   \n",
              "4   54    1                3           150          195                    0   \n",
              "\n",
              "   resting ecg  max heart rate  exercise angina  oldpeak  ST slope  target  \n",
              "0            0             172                0      0.0         1       0  \n",
              "1            0             156                0      1.0         2       1  \n",
              "2            1              98                0      0.0         1       0  \n",
              "3            0             108                1      1.5         2       1  \n",
              "4            0             122                0      0.0         1       0  "
            ],
            "text/html": [
              "\n",
              "  <div id=\"df-cf88ab64-8fbd-4121-bbb0-34e7afbe7ed5\" class=\"colab-df-container\">\n",
              "    <div>\n",
              "<style scoped>\n",
              "    .dataframe tbody tr th:only-of-type {\n",
              "        vertical-align: middle;\n",
              "    }\n",
              "\n",
              "    .dataframe tbody tr th {\n",
              "        vertical-align: top;\n",
              "    }\n",
              "\n",
              "    .dataframe thead th {\n",
              "        text-align: right;\n",
              "    }\n",
              "</style>\n",
              "<table border=\"1\" class=\"dataframe\">\n",
              "  <thead>\n",
              "    <tr style=\"text-align: right;\">\n",
              "      <th></th>\n",
              "      <th>age</th>\n",
              "      <th>sex</th>\n",
              "      <th>chest pain type</th>\n",
              "      <th>resting bp s</th>\n",
              "      <th>cholesterol</th>\n",
              "      <th>fasting blood sugar</th>\n",
              "      <th>resting ecg</th>\n",
              "      <th>max heart rate</th>\n",
              "      <th>exercise angina</th>\n",
              "      <th>oldpeak</th>\n",
              "      <th>ST slope</th>\n",
              "      <th>target</th>\n",
              "    </tr>\n",
              "  </thead>\n",
              "  <tbody>\n",
              "    <tr>\n",
              "      <th>0</th>\n",
              "      <td>40</td>\n",
              "      <td>1</td>\n",
              "      <td>2</td>\n",
              "      <td>140</td>\n",
              "      <td>289</td>\n",
              "      <td>0</td>\n",
              "      <td>0</td>\n",
              "      <td>172</td>\n",
              "      <td>0</td>\n",
              "      <td>0.0</td>\n",
              "      <td>1</td>\n",
              "      <td>0</td>\n",
              "    </tr>\n",
              "    <tr>\n",
              "      <th>1</th>\n",
              "      <td>49</td>\n",
              "      <td>0</td>\n",
              "      <td>3</td>\n",
              "      <td>160</td>\n",
              "      <td>180</td>\n",
              "      <td>0</td>\n",
              "      <td>0</td>\n",
              "      <td>156</td>\n",
              "      <td>0</td>\n",
              "      <td>1.0</td>\n",
              "      <td>2</td>\n",
              "      <td>1</td>\n",
              "    </tr>\n",
              "    <tr>\n",
              "      <th>2</th>\n",
              "      <td>37</td>\n",
              "      <td>1</td>\n",
              "      <td>2</td>\n",
              "      <td>130</td>\n",
              "      <td>283</td>\n",
              "      <td>0</td>\n",
              "      <td>1</td>\n",
              "      <td>98</td>\n",
              "      <td>0</td>\n",
              "      <td>0.0</td>\n",
              "      <td>1</td>\n",
              "      <td>0</td>\n",
              "    </tr>\n",
              "    <tr>\n",
              "      <th>3</th>\n",
              "      <td>48</td>\n",
              "      <td>0</td>\n",
              "      <td>4</td>\n",
              "      <td>138</td>\n",
              "      <td>214</td>\n",
              "      <td>0</td>\n",
              "      <td>0</td>\n",
              "      <td>108</td>\n",
              "      <td>1</td>\n",
              "      <td>1.5</td>\n",
              "      <td>2</td>\n",
              "      <td>1</td>\n",
              "    </tr>\n",
              "    <tr>\n",
              "      <th>4</th>\n",
              "      <td>54</td>\n",
              "      <td>1</td>\n",
              "      <td>3</td>\n",
              "      <td>150</td>\n",
              "      <td>195</td>\n",
              "      <td>0</td>\n",
              "      <td>0</td>\n",
              "      <td>122</td>\n",
              "      <td>0</td>\n",
              "      <td>0.0</td>\n",
              "      <td>1</td>\n",
              "      <td>0</td>\n",
              "    </tr>\n",
              "  </tbody>\n",
              "</table>\n",
              "</div>\n",
              "    <div class=\"colab-df-buttons\">\n",
              "\n",
              "  <div class=\"colab-df-container\">\n",
              "    <button class=\"colab-df-convert\" onclick=\"convertToInteractive('df-cf88ab64-8fbd-4121-bbb0-34e7afbe7ed5')\"\n",
              "            title=\"Convert this dataframe to an interactive table.\"\n",
              "            style=\"display:none;\">\n",
              "\n",
              "  <svg xmlns=\"http://www.w3.org/2000/svg\" height=\"24px\" viewBox=\"0 -960 960 960\">\n",
              "    <path d=\"M120-120v-720h720v720H120Zm60-500h600v-160H180v160Zm220 220h160v-160H400v160Zm0 220h160v-160H400v160ZM180-400h160v-160H180v160Zm440 0h160v-160H620v160ZM180-180h160v-160H180v160Zm440 0h160v-160H620v160Z\"/>\n",
              "  </svg>\n",
              "    </button>\n",
              "\n",
              "  <style>\n",
              "    .colab-df-container {\n",
              "      display:flex;\n",
              "      gap: 12px;\n",
              "    }\n",
              "\n",
              "    .colab-df-convert {\n",
              "      background-color: #E8F0FE;\n",
              "      border: none;\n",
              "      border-radius: 50%;\n",
              "      cursor: pointer;\n",
              "      display: none;\n",
              "      fill: #1967D2;\n",
              "      height: 32px;\n",
              "      padding: 0 0 0 0;\n",
              "      width: 32px;\n",
              "    }\n",
              "\n",
              "    .colab-df-convert:hover {\n",
              "      background-color: #E2EBFA;\n",
              "      box-shadow: 0px 1px 2px rgba(60, 64, 67, 0.3), 0px 1px 3px 1px rgba(60, 64, 67, 0.15);\n",
              "      fill: #174EA6;\n",
              "    }\n",
              "\n",
              "    .colab-df-buttons div {\n",
              "      margin-bottom: 4px;\n",
              "    }\n",
              "\n",
              "    [theme=dark] .colab-df-convert {\n",
              "      background-color: #3B4455;\n",
              "      fill: #D2E3FC;\n",
              "    }\n",
              "\n",
              "    [theme=dark] .colab-df-convert:hover {\n",
              "      background-color: #434B5C;\n",
              "      box-shadow: 0px 1px 3px 1px rgba(0, 0, 0, 0.15);\n",
              "      filter: drop-shadow(0px 1px 2px rgba(0, 0, 0, 0.3));\n",
              "      fill: #FFFFFF;\n",
              "    }\n",
              "  </style>\n",
              "\n",
              "    <script>\n",
              "      const buttonEl =\n",
              "        document.querySelector('#df-cf88ab64-8fbd-4121-bbb0-34e7afbe7ed5 button.colab-df-convert');\n",
              "      buttonEl.style.display =\n",
              "        google.colab.kernel.accessAllowed ? 'block' : 'none';\n",
              "\n",
              "      async function convertToInteractive(key) {\n",
              "        const element = document.querySelector('#df-cf88ab64-8fbd-4121-bbb0-34e7afbe7ed5');\n",
              "        const dataTable =\n",
              "          await google.colab.kernel.invokeFunction('convertToInteractive',\n",
              "                                                    [key], {});\n",
              "        if (!dataTable) return;\n",
              "\n",
              "        const docLinkHtml = 'Like what you see? Visit the ' +\n",
              "          '<a target=\"_blank\" href=https://colab.research.google.com/notebooks/data_table.ipynb>data table notebook</a>'\n",
              "          + ' to learn more about interactive tables.';\n",
              "        element.innerHTML = '';\n",
              "        dataTable['output_type'] = 'display_data';\n",
              "        await google.colab.output.renderOutput(dataTable, element);\n",
              "        const docLink = document.createElement('div');\n",
              "        docLink.innerHTML = docLinkHtml;\n",
              "        element.appendChild(docLink);\n",
              "      }\n",
              "    </script>\n",
              "  </div>\n",
              "\n",
              "\n",
              "<div id=\"df-d20f1d80-bada-46b8-a93d-0fddd83f97fc\">\n",
              "  <button class=\"colab-df-quickchart\" onclick=\"quickchart('df-d20f1d80-bada-46b8-a93d-0fddd83f97fc')\"\n",
              "            title=\"Suggest charts\"\n",
              "            style=\"display:none;\">\n",
              "\n",
              "<svg xmlns=\"http://www.w3.org/2000/svg\" height=\"24px\"viewBox=\"0 0 24 24\"\n",
              "     width=\"24px\">\n",
              "    <g>\n",
              "        <path d=\"M19 3H5c-1.1 0-2 .9-2 2v14c0 1.1.9 2 2 2h14c1.1 0 2-.9 2-2V5c0-1.1-.9-2-2-2zM9 17H7v-7h2v7zm4 0h-2V7h2v10zm4 0h-2v-4h2v4z\"/>\n",
              "    </g>\n",
              "</svg>\n",
              "  </button>\n",
              "\n",
              "<style>\n",
              "  .colab-df-quickchart {\n",
              "      --bg-color: #E8F0FE;\n",
              "      --fill-color: #1967D2;\n",
              "      --hover-bg-color: #E2EBFA;\n",
              "      --hover-fill-color: #174EA6;\n",
              "      --disabled-fill-color: #AAA;\n",
              "      --disabled-bg-color: #DDD;\n",
              "  }\n",
              "\n",
              "  [theme=dark] .colab-df-quickchart {\n",
              "      --bg-color: #3B4455;\n",
              "      --fill-color: #D2E3FC;\n",
              "      --hover-bg-color: #434B5C;\n",
              "      --hover-fill-color: #FFFFFF;\n",
              "      --disabled-bg-color: #3B4455;\n",
              "      --disabled-fill-color: #666;\n",
              "  }\n",
              "\n",
              "  .colab-df-quickchart {\n",
              "    background-color: var(--bg-color);\n",
              "    border: none;\n",
              "    border-radius: 50%;\n",
              "    cursor: pointer;\n",
              "    display: none;\n",
              "    fill: var(--fill-color);\n",
              "    height: 32px;\n",
              "    padding: 0;\n",
              "    width: 32px;\n",
              "  }\n",
              "\n",
              "  .colab-df-quickchart:hover {\n",
              "    background-color: var(--hover-bg-color);\n",
              "    box-shadow: 0 1px 2px rgba(60, 64, 67, 0.3), 0 1px 3px 1px rgba(60, 64, 67, 0.15);\n",
              "    fill: var(--button-hover-fill-color);\n",
              "  }\n",
              "\n",
              "  .colab-df-quickchart-complete:disabled,\n",
              "  .colab-df-quickchart-complete:disabled:hover {\n",
              "    background-color: var(--disabled-bg-color);\n",
              "    fill: var(--disabled-fill-color);\n",
              "    box-shadow: none;\n",
              "  }\n",
              "\n",
              "  .colab-df-spinner {\n",
              "    border: 2px solid var(--fill-color);\n",
              "    border-color: transparent;\n",
              "    border-bottom-color: var(--fill-color);\n",
              "    animation:\n",
              "      spin 1s steps(1) infinite;\n",
              "  }\n",
              "\n",
              "  @keyframes spin {\n",
              "    0% {\n",
              "      border-color: transparent;\n",
              "      border-bottom-color: var(--fill-color);\n",
              "      border-left-color: var(--fill-color);\n",
              "    }\n",
              "    20% {\n",
              "      border-color: transparent;\n",
              "      border-left-color: var(--fill-color);\n",
              "      border-top-color: var(--fill-color);\n",
              "    }\n",
              "    30% {\n",
              "      border-color: transparent;\n",
              "      border-left-color: var(--fill-color);\n",
              "      border-top-color: var(--fill-color);\n",
              "      border-right-color: var(--fill-color);\n",
              "    }\n",
              "    40% {\n",
              "      border-color: transparent;\n",
              "      border-right-color: var(--fill-color);\n",
              "      border-top-color: var(--fill-color);\n",
              "    }\n",
              "    60% {\n",
              "      border-color: transparent;\n",
              "      border-right-color: var(--fill-color);\n",
              "    }\n",
              "    80% {\n",
              "      border-color: transparent;\n",
              "      border-right-color: var(--fill-color);\n",
              "      border-bottom-color: var(--fill-color);\n",
              "    }\n",
              "    90% {\n",
              "      border-color: transparent;\n",
              "      border-bottom-color: var(--fill-color);\n",
              "    }\n",
              "  }\n",
              "</style>\n",
              "\n",
              "  <script>\n",
              "    async function quickchart(key) {\n",
              "      const quickchartButtonEl =\n",
              "        document.querySelector('#' + key + ' button');\n",
              "      quickchartButtonEl.disabled = true;  // To prevent multiple clicks.\n",
              "      quickchartButtonEl.classList.add('colab-df-spinner');\n",
              "      try {\n",
              "        const charts = await google.colab.kernel.invokeFunction(\n",
              "            'suggestCharts', [key], {});\n",
              "      } catch (error) {\n",
              "        console.error('Error during call to suggestCharts:', error);\n",
              "      }\n",
              "      quickchartButtonEl.classList.remove('colab-df-spinner');\n",
              "      quickchartButtonEl.classList.add('colab-df-quickchart-complete');\n",
              "    }\n",
              "    (() => {\n",
              "      let quickchartButtonEl =\n",
              "        document.querySelector('#df-d20f1d80-bada-46b8-a93d-0fddd83f97fc button');\n",
              "      quickchartButtonEl.style.display =\n",
              "        google.colab.kernel.accessAllowed ? 'block' : 'none';\n",
              "    })();\n",
              "  </script>\n",
              "</div>\n",
              "\n",
              "    </div>\n",
              "  </div>\n"
            ],
            "application/vnd.google.colaboratory.intrinsic+json": {
              "type": "dataframe",
              "variable_name": "data",
              "summary": "{\n  \"name\": \"data\",\n  \"rows\": 1190,\n  \"fields\": [\n    {\n      \"column\": \"age\",\n      \"properties\": {\n        \"dtype\": \"number\",\n        \"std\": 9,\n        \"min\": 28,\n        \"max\": 77,\n        \"num_unique_values\": 50,\n        \"samples\": [\n          44,\n          68,\n          66\n        ],\n        \"semantic_type\": \"\",\n        \"description\": \"\"\n      }\n    },\n    {\n      \"column\": \"sex\",\n      \"properties\": {\n        \"dtype\": \"number\",\n        \"std\": 0,\n        \"min\": 0,\n        \"max\": 1,\n        \"num_unique_values\": 2,\n        \"samples\": [\n          0,\n          1\n        ],\n        \"semantic_type\": \"\",\n        \"description\": \"\"\n      }\n    },\n    {\n      \"column\": \"chest pain type\",\n      \"properties\": {\n        \"dtype\": \"number\",\n        \"std\": 0,\n        \"min\": 1,\n        \"max\": 4,\n        \"num_unique_values\": 4,\n        \"samples\": [\n          3,\n          1\n        ],\n        \"semantic_type\": \"\",\n        \"description\": \"\"\n      }\n    },\n    {\n      \"column\": \"resting bp s\",\n      \"properties\": {\n        \"dtype\": \"number\",\n        \"std\": 18,\n        \"min\": 0,\n        \"max\": 200,\n        \"num_unique_values\": 67,\n        \"samples\": [\n          165,\n          118\n        ],\n        \"semantic_type\": \"\",\n        \"description\": \"\"\n      }\n    },\n    {\n      \"column\": \"cholesterol\",\n      \"properties\": {\n        \"dtype\": \"number\",\n        \"std\": 101,\n        \"min\": 0,\n        \"max\": 603,\n        \"num_unique_values\": 222,\n        \"samples\": [\n          305,\n          321\n        ],\n        \"semantic_type\": \"\",\n        \"description\": \"\"\n      }\n    },\n    {\n      \"column\": \"fasting blood sugar\",\n      \"properties\": {\n        \"dtype\": \"number\",\n        \"std\": 0,\n        \"min\": 0,\n        \"max\": 1,\n        \"num_unique_values\": 2,\n        \"samples\": [\n          1,\n          0\n        ],\n        \"semantic_type\": \"\",\n        \"description\": \"\"\n      }\n    },\n    {\n      \"column\": \"resting ecg\",\n      \"properties\": {\n        \"dtype\": \"number\",\n        \"std\": 0,\n        \"min\": 0,\n        \"max\": 2,\n        \"num_unique_values\": 3,\n        \"samples\": [\n          0,\n          1\n        ],\n        \"semantic_type\": \"\",\n        \"description\": \"\"\n      }\n    },\n    {\n      \"column\": \"max heart rate\",\n      \"properties\": {\n        \"dtype\": \"number\",\n        \"std\": 25,\n        \"min\": 60,\n        \"max\": 202,\n        \"num_unique_values\": 119,\n        \"samples\": [\n          132,\n          157\n        ],\n        \"semantic_type\": \"\",\n        \"description\": \"\"\n      }\n    },\n    {\n      \"column\": \"exercise angina\",\n      \"properties\": {\n        \"dtype\": \"number\",\n        \"std\": 0,\n        \"min\": 0,\n        \"max\": 1,\n        \"num_unique_values\": 2,\n        \"samples\": [\n          1,\n          0\n        ],\n        \"semantic_type\": \"\",\n        \"description\": \"\"\n      }\n    },\n    {\n      \"column\": \"oldpeak\",\n      \"properties\": {\n        \"dtype\": \"number\",\n        \"std\": 1.0863372185219862,\n        \"min\": -2.6,\n        \"max\": 6.2,\n        \"num_unique_values\": 53,\n        \"samples\": [\n          1.3,\n          0.6\n        ],\n        \"semantic_type\": \"\",\n        \"description\": \"\"\n      }\n    },\n    {\n      \"column\": \"ST slope\",\n      \"properties\": {\n        \"dtype\": \"number\",\n        \"std\": 0,\n        \"min\": 0,\n        \"max\": 3,\n        \"num_unique_values\": 4,\n        \"samples\": [\n          2,\n          0\n        ],\n        \"semantic_type\": \"\",\n        \"description\": \"\"\n      }\n    },\n    {\n      \"column\": \"target\",\n      \"properties\": {\n        \"dtype\": \"number\",\n        \"std\": 0,\n        \"min\": 0,\n        \"max\": 1,\n        \"num_unique_values\": 2,\n        \"samples\": [\n          1,\n          0\n        ],\n        \"semantic_type\": \"\",\n        \"description\": \"\"\n      }\n    }\n  ]\n}"
            }
          },
          "metadata": {},
          "execution_count": 2
        }
      ]
    },
    {
      "cell_type": "code",
      "source": [
        "data.shape"
      ],
      "metadata": {
        "colab": {
          "base_uri": "https://localhost:8080/"
        },
        "id": "gOejzFKUcQc3",
        "outputId": "d0ceb71c-1403-49ad-fddf-71f6f3c07c6e"
      },
      "execution_count": 3,
      "outputs": [
        {
          "output_type": "execute_result",
          "data": {
            "text/plain": [
              "(1190, 12)"
            ]
          },
          "metadata": {},
          "execution_count": 3
        }
      ]
    },
    {
      "cell_type": "code",
      "source": [
        "data.info()"
      ],
      "metadata": {
        "colab": {
          "base_uri": "https://localhost:8080/"
        },
        "id": "wolAv-zme8nY",
        "outputId": "ebdc0410-e568-451e-8706-388030fe793b"
      },
      "execution_count": 4,
      "outputs": [
        {
          "output_type": "stream",
          "name": "stdout",
          "text": [
            "<class 'pandas.core.frame.DataFrame'>\n",
            "RangeIndex: 1190 entries, 0 to 1189\n",
            "Data columns (total 12 columns):\n",
            " #   Column               Non-Null Count  Dtype  \n",
            "---  ------               --------------  -----  \n",
            " 0   age                  1190 non-null   int64  \n",
            " 1   sex                  1190 non-null   int64  \n",
            " 2   chest pain type      1190 non-null   int64  \n",
            " 3   resting bp s         1190 non-null   int64  \n",
            " 4   cholesterol          1190 non-null   int64  \n",
            " 5   fasting blood sugar  1190 non-null   int64  \n",
            " 6   resting ecg          1190 non-null   int64  \n",
            " 7   max heart rate       1190 non-null   int64  \n",
            " 8   exercise angina      1190 non-null   int64  \n",
            " 9   oldpeak              1190 non-null   float64\n",
            " 10  ST slope             1190 non-null   int64  \n",
            " 11  target               1190 non-null   int64  \n",
            "dtypes: float64(1), int64(11)\n",
            "memory usage: 111.7 KB\n"
          ]
        }
      ]
    },
    {
      "cell_type": "code",
      "source": [
        "def normalize(data):\n",
        "    mean = np.mean(data, axis=0)\n",
        "    std = np.std(data, axis=0)\n",
        "    return (data - mean) / std"
      ],
      "metadata": {
        "id": "2bF9gRoJhYXY"
      },
      "execution_count": 5,
      "outputs": []
    },
    {
      "cell_type": "code",
      "source": [
        "from sklearn.model_selection import train_test_split\n",
        "X = data.iloc[:, :-1]\n",
        "y = data.iloc[:, -1]"
      ],
      "metadata": {
        "id": "JAOjXnfzhkX5"
      },
      "execution_count": 6,
      "outputs": []
    },
    {
      "cell_type": "code",
      "source": [
        "X_norm = normalize(X)"
      ],
      "metadata": {
        "id": "MFRzBA7Ah4Vs"
      },
      "execution_count": 7,
      "outputs": []
    },
    {
      "cell_type": "code",
      "source": [
        "X_train, X_test, y_train, y_test = train_test_split(X_norm, y, test_size=0.3, random_state=46)"
      ],
      "metadata": {
        "id": "rS3NZM0Ah7K0"
      },
      "execution_count": 8,
      "outputs": []
    },
    {
      "cell_type": "code",
      "source": [
        "X_train.shape"
      ],
      "metadata": {
        "colab": {
          "base_uri": "https://localhost:8080/"
        },
        "id": "A-hKmKg7iH_p",
        "outputId": "42107fa8-4449-49b2-80ee-4a639b58cba8"
      },
      "execution_count": 9,
      "outputs": [
        {
          "output_type": "execute_result",
          "data": {
            "text/plain": [
              "(833, 11)"
            ]
          },
          "metadata": {},
          "execution_count": 9
        }
      ]
    },
    {
      "cell_type": "code",
      "source": [
        "from tensorflow.keras import Sequential\n",
        "from tensorflow.keras.layers import Dense\n"
      ],
      "metadata": {
        "id": "0WPra4S7iJ95"
      },
      "execution_count": 10,
      "outputs": []
    },
    {
      "cell_type": "code",
      "source": [
        "model = Sequential()\n",
        "model.add(Dense(128, activation='relu', input_shape=(11,)))\n",
        "model.add(Dense(64, activation='relu'))\n",
        "model.add(Dense(1, activation='sigmoid'))"
      ],
      "metadata": {
        "id": "sGl9dU4ijBl3"
      },
      "execution_count": 11,
      "outputs": []
    },
    {
      "cell_type": "markdown",
      "source": [
        "## Traing the model without any optimizer"
      ],
      "metadata": {
        "id": "VrmAfsgnm9BV"
      }
    },
    {
      "cell_type": "code",
      "source": [
        "optimizer = tf.keras.optimizers.SGD(learning_rate=0.0)\n",
        "model.compile(optimizer=optimizer, loss='binary_crossentropy', metrics=['accuracy'])"
      ],
      "metadata": {
        "id": "r_GE2effjP1k"
      },
      "execution_count": 12,
      "outputs": []
    },
    {
      "cell_type": "code",
      "source": [
        "history = model.fit(X_train, y_train, epochs=10, batch_size=32, validation_split=0.2)"
      ],
      "metadata": {
        "colab": {
          "base_uri": "https://localhost:8080/"
        },
        "id": "yPEWkw_rjVz-",
        "outputId": "96027cc5-0c51-4d07-dd29-a0da64967501"
      },
      "execution_count": 13,
      "outputs": [
        {
          "output_type": "stream",
          "name": "stdout",
          "text": [
            "Epoch 1/10\n",
            "21/21 [==============================] - 1s 14ms/step - loss: 0.6974 - accuracy: 0.6036 - val_loss: 0.6902 - val_accuracy: 0.6407\n",
            "Epoch 2/10\n",
            "21/21 [==============================] - 0s 4ms/step - loss: 0.6974 - accuracy: 0.6036 - val_loss: 0.6902 - val_accuracy: 0.6407\n",
            "Epoch 3/10\n",
            "21/21 [==============================] - 0s 4ms/step - loss: 0.6974 - accuracy: 0.6036 - val_loss: 0.6902 - val_accuracy: 0.6407\n",
            "Epoch 4/10\n",
            "21/21 [==============================] - 0s 5ms/step - loss: 0.6974 - accuracy: 0.6036 - val_loss: 0.6902 - val_accuracy: 0.6407\n",
            "Epoch 5/10\n",
            "21/21 [==============================] - 0s 4ms/step - loss: 0.6974 - accuracy: 0.6036 - val_loss: 0.6902 - val_accuracy: 0.6407\n",
            "Epoch 6/10\n",
            "21/21 [==============================] - 0s 4ms/step - loss: 0.6974 - accuracy: 0.6036 - val_loss: 0.6902 - val_accuracy: 0.6407\n",
            "Epoch 7/10\n",
            "21/21 [==============================] - 0s 4ms/step - loss: 0.6974 - accuracy: 0.6036 - val_loss: 0.6902 - val_accuracy: 0.6407\n",
            "Epoch 8/10\n",
            "21/21 [==============================] - 0s 4ms/step - loss: 0.6974 - accuracy: 0.6036 - val_loss: 0.6902 - val_accuracy: 0.6407\n",
            "Epoch 9/10\n",
            "21/21 [==============================] - 0s 3ms/step - loss: 0.6974 - accuracy: 0.6036 - val_loss: 0.6902 - val_accuracy: 0.6407\n",
            "Epoch 10/10\n",
            "21/21 [==============================] - 0s 4ms/step - loss: 0.6974 - accuracy: 0.6036 - val_loss: 0.6902 - val_accuracy: 0.6407\n"
          ]
        }
      ]
    },
    {
      "cell_type": "code",
      "source": [
        "test_loss, test_accuracy = model.evaluate(X_test, y_test)\n",
        "\n",
        "print(\"Test Loss:\", test_loss)\n",
        "print(\"Test Accuracy:\", test_accuracy)"
      ],
      "metadata": {
        "colab": {
          "base_uri": "https://localhost:8080/"
        },
        "id": "ZijsAQY-jqpH",
        "outputId": "d2abdaf4-b53a-41be-ff77-4bab2b7262b7"
      },
      "execution_count": 14,
      "outputs": [
        {
          "output_type": "stream",
          "name": "stdout",
          "text": [
            "12/12 [==============================] - 0s 2ms/step - loss: 0.6948 - accuracy: 0.6078\n",
            "Test Loss: 0.6948428750038147\n",
            "Test Accuracy: 0.6078431606292725\n"
          ]
        }
      ]
    },
    {
      "cell_type": "markdown",
      "source": [
        "## Introducing the Gradient Descent Optimizer with Learning rate 0.01"
      ],
      "metadata": {
        "id": "UfIOoY9bnKM2"
      }
    },
    {
      "cell_type": "code",
      "source": [
        "optimizer = tf.keras.optimizers.SGD(learning_rate=0.01)\n",
        "model.compile(optimizer=optimizer, loss='binary_crossentropy', metrics=['accuracy'])"
      ],
      "metadata": {
        "id": "7oUxAf22kNDu"
      },
      "execution_count": 15,
      "outputs": []
    },
    {
      "cell_type": "code",
      "source": [
        "history = model.fit(X_train, y_train, epochs=10, batch_size=32, validation_split=0.2)"
      ],
      "metadata": {
        "colab": {
          "base_uri": "https://localhost:8080/"
        },
        "id": "fPuQ13InkRdL",
        "outputId": "83d909b1-8f6e-46d1-da05-4dc51097a64e"
      },
      "execution_count": 16,
      "outputs": [
        {
          "output_type": "stream",
          "name": "stdout",
          "text": [
            "Epoch 1/10\n",
            "21/21 [==============================] - 1s 12ms/step - loss: 0.6773 - accuracy: 0.6502 - val_loss: 0.6488 - val_accuracy: 0.7246\n",
            "Epoch 2/10\n",
            "21/21 [==============================] - 0s 4ms/step - loss: 0.6401 - accuracy: 0.7192 - val_loss: 0.6154 - val_accuracy: 0.7784\n",
            "Epoch 3/10\n",
            "21/21 [==============================] - 0s 6ms/step - loss: 0.6096 - accuracy: 0.7613 - val_loss: 0.5864 - val_accuracy: 0.8204\n",
            "Epoch 4/10\n",
            "21/21 [==============================] - 0s 7ms/step - loss: 0.5830 - accuracy: 0.7838 - val_loss: 0.5598 - val_accuracy: 0.8323\n",
            "Epoch 5/10\n",
            "21/21 [==============================] - 0s 6ms/step - loss: 0.5593 - accuracy: 0.8063 - val_loss: 0.5354 - val_accuracy: 0.8263\n",
            "Epoch 6/10\n",
            "21/21 [==============================] - 0s 6ms/step - loss: 0.5375 - accuracy: 0.8153 - val_loss: 0.5128 - val_accuracy: 0.8204\n",
            "Epoch 7/10\n",
            "21/21 [==============================] - 0s 6ms/step - loss: 0.5177 - accuracy: 0.8108 - val_loss: 0.4922 - val_accuracy: 0.8263\n",
            "Epoch 8/10\n",
            "21/21 [==============================] - 0s 6ms/step - loss: 0.4997 - accuracy: 0.8168 - val_loss: 0.4732 - val_accuracy: 0.8263\n",
            "Epoch 9/10\n",
            "21/21 [==============================] - 0s 6ms/step - loss: 0.4832 - accuracy: 0.8138 - val_loss: 0.4561 - val_accuracy: 0.8263\n",
            "Epoch 10/10\n",
            "21/21 [==============================] - 0s 6ms/step - loss: 0.4684 - accuracy: 0.8168 - val_loss: 0.4407 - val_accuracy: 0.8263\n"
          ]
        }
      ]
    },
    {
      "cell_type": "code",
      "source": [
        "test_loss, test_accuracy = model.evaluate(X_test, y_test)\n",
        "\n",
        "print(\"Test Loss:\", test_loss)\n",
        "print(\"Test Accuracy:\", test_accuracy)"
      ],
      "metadata": {
        "colab": {
          "base_uri": "https://localhost:8080/"
        },
        "id": "F0UvefzoljeD",
        "outputId": "fa3edcf5-1a7e-4463-a38a-19e3f5c50453"
      },
      "execution_count": 17,
      "outputs": [
        {
          "output_type": "stream",
          "name": "stdout",
          "text": [
            "12/12 [==============================] - 0s 2ms/step - loss: 0.4846 - accuracy: 0.8067\n",
            "Test Loss: 0.4846442639827728\n",
            "Test Accuracy: 0.8067227005958557\n"
          ]
        }
      ]
    },
    {
      "cell_type": "markdown",
      "source": [],
      "metadata": {
        "id": "_64sgik5niMc"
      }
    },
    {
      "cell_type": "markdown",
      "source": [
        "## Updating the optimization technique by increasing the learning rate of Gradient Descent to 0.02 and increasing epochs to 25"
      ],
      "metadata": {
        "id": "DLd8HSLkniaE"
      }
    },
    {
      "cell_type": "code",
      "source": [
        "optimizer = tf.keras.optimizers.SGD(learning_rate=0.02)\n",
        "model.compile(optimizer=optimizer, loss='binary_crossentropy', metrics=['accuracy'])"
      ],
      "metadata": {
        "id": "3c8qEAzTmY7c"
      },
      "execution_count": 18,
      "outputs": []
    },
    {
      "cell_type": "code",
      "source": [
        "history = model.fit(X_train, y_train, epochs=25, batch_size=32, validation_split=0.2)"
      ],
      "metadata": {
        "colab": {
          "base_uri": "https://localhost:8080/"
        },
        "id": "f-ddgmidmchq",
        "outputId": "56c6c3b7-f884-4364-8961-3733aedac197"
      },
      "execution_count": 19,
      "outputs": [
        {
          "output_type": "stream",
          "name": "stdout",
          "text": [
            "Epoch 1/25\n",
            "21/21 [==============================] - 1s 13ms/step - loss: 0.4507 - accuracy: 0.8168 - val_loss: 0.4147 - val_accuracy: 0.8263\n",
            "Epoch 2/25\n",
            "21/21 [==============================] - 0s 4ms/step - loss: 0.4298 - accuracy: 0.8213 - val_loss: 0.3943 - val_accuracy: 0.8263\n",
            "Epoch 3/25\n",
            "21/21 [==============================] - 0s 4ms/step - loss: 0.4138 - accuracy: 0.8258 - val_loss: 0.3794 - val_accuracy: 0.8323\n",
            "Epoch 4/25\n",
            "21/21 [==============================] - 0s 4ms/step - loss: 0.4010 - accuracy: 0.8258 - val_loss: 0.3677 - val_accuracy: 0.8323\n",
            "Epoch 5/25\n",
            "21/21 [==============================] - 0s 5ms/step - loss: 0.3912 - accuracy: 0.8273 - val_loss: 0.3582 - val_accuracy: 0.8383\n",
            "Epoch 6/25\n",
            "21/21 [==============================] - 0s 4ms/step - loss: 0.3835 - accuracy: 0.8273 - val_loss: 0.3510 - val_accuracy: 0.8503\n",
            "Epoch 7/25\n",
            "21/21 [==============================] - 0s 4ms/step - loss: 0.3770 - accuracy: 0.8318 - val_loss: 0.3458 - val_accuracy: 0.8503\n",
            "Epoch 8/25\n",
            "21/21 [==============================] - 0s 4ms/step - loss: 0.3714 - accuracy: 0.8348 - val_loss: 0.3418 - val_accuracy: 0.8503\n",
            "Epoch 9/25\n",
            "21/21 [==============================] - 0s 4ms/step - loss: 0.3666 - accuracy: 0.8363 - val_loss: 0.3383 - val_accuracy: 0.8563\n",
            "Epoch 10/25\n",
            "21/21 [==============================] - 0s 4ms/step - loss: 0.3629 - accuracy: 0.8378 - val_loss: 0.3355 - val_accuracy: 0.8683\n",
            "Epoch 11/25\n",
            "21/21 [==============================] - 0s 5ms/step - loss: 0.3587 - accuracy: 0.8438 - val_loss: 0.3336 - val_accuracy: 0.8623\n",
            "Epoch 12/25\n",
            "21/21 [==============================] - 0s 4ms/step - loss: 0.3553 - accuracy: 0.8438 - val_loss: 0.3315 - val_accuracy: 0.8623\n",
            "Epoch 13/25\n",
            "21/21 [==============================] - 0s 5ms/step - loss: 0.3521 - accuracy: 0.8423 - val_loss: 0.3302 - val_accuracy: 0.8623\n",
            "Epoch 14/25\n",
            "21/21 [==============================] - 0s 4ms/step - loss: 0.3490 - accuracy: 0.8453 - val_loss: 0.3297 - val_accuracy: 0.8623\n",
            "Epoch 15/25\n",
            "21/21 [==============================] - 0s 4ms/step - loss: 0.3462 - accuracy: 0.8453 - val_loss: 0.3288 - val_accuracy: 0.8623\n",
            "Epoch 16/25\n",
            "21/21 [==============================] - 0s 4ms/step - loss: 0.3434 - accuracy: 0.8438 - val_loss: 0.3272 - val_accuracy: 0.8623\n",
            "Epoch 17/25\n",
            "21/21 [==============================] - 0s 5ms/step - loss: 0.3408 - accuracy: 0.8483 - val_loss: 0.3276 - val_accuracy: 0.8623\n",
            "Epoch 18/25\n",
            "21/21 [==============================] - 0s 4ms/step - loss: 0.3382 - accuracy: 0.8514 - val_loss: 0.3272 - val_accuracy: 0.8623\n",
            "Epoch 19/25\n",
            "21/21 [==============================] - 0s 4ms/step - loss: 0.3361 - accuracy: 0.8483 - val_loss: 0.3267 - val_accuracy: 0.8623\n",
            "Epoch 20/25\n",
            "21/21 [==============================] - 0s 4ms/step - loss: 0.3337 - accuracy: 0.8514 - val_loss: 0.3265 - val_accuracy: 0.8623\n",
            "Epoch 21/25\n",
            "21/21 [==============================] - 0s 4ms/step - loss: 0.3315 - accuracy: 0.8559 - val_loss: 0.3262 - val_accuracy: 0.8623\n",
            "Epoch 22/25\n",
            "21/21 [==============================] - 0s 5ms/step - loss: 0.3296 - accuracy: 0.8544 - val_loss: 0.3256 - val_accuracy: 0.8623\n",
            "Epoch 23/25\n",
            "21/21 [==============================] - 0s 3ms/step - loss: 0.3275 - accuracy: 0.8604 - val_loss: 0.3260 - val_accuracy: 0.8623\n",
            "Epoch 24/25\n",
            "21/21 [==============================] - 0s 4ms/step - loss: 0.3251 - accuracy: 0.8634 - val_loss: 0.3266 - val_accuracy: 0.8683\n",
            "Epoch 25/25\n",
            "21/21 [==============================] - 0s 4ms/step - loss: 0.3228 - accuracy: 0.8619 - val_loss: 0.3266 - val_accuracy: 0.8683\n"
          ]
        }
      ]
    },
    {
      "cell_type": "code",
      "source": [
        "test_loss, test_accuracy = model.evaluate(X_test, y_test)\n",
        "\n",
        "print(\"Test Loss:\", test_loss)\n",
        "print(\"Test Accuracy:\", test_accuracy)"
      ],
      "metadata": {
        "colab": {
          "base_uri": "https://localhost:8080/"
        },
        "id": "Q_hjKR5envz1",
        "outputId": "d581b4da-5e69-43e7-8023-3e8b7eac8614"
      },
      "execution_count": 20,
      "outputs": [
        {
          "output_type": "stream",
          "name": "stdout",
          "text": [
            "12/12 [==============================] - 0s 2ms/step - loss: 0.4095 - accuracy: 0.8291\n",
            "Test Loss: 0.40952885150909424\n",
            "Test Accuracy: 0.8291316628456116\n"
          ]
        }
      ]
    },
    {
      "cell_type": "markdown",
      "source": [
        "## Introducing the advance version of Gradient Descent algorithm 'Adam' with learning rate 0.01"
      ],
      "metadata": {
        "id": "vQohzRWVn1u2"
      }
    },
    {
      "cell_type": "code",
      "source": [
        "model.compile(optimizer='adam', loss='binary_crossentropy', metrics=['accuracy'])"
      ],
      "metadata": {
        "id": "QYhDA45fkVhw"
      },
      "execution_count": 21,
      "outputs": []
    },
    {
      "cell_type": "code",
      "source": [
        "history = model.fit(X_train, y_train, epochs=10, batch_size=32, validation_split=0.2)"
      ],
      "metadata": {
        "colab": {
          "base_uri": "https://localhost:8080/"
        },
        "id": "55AGez22k4ks",
        "outputId": "53a9fe54-d7eb-4cb8-9e1a-e1b8343a9e99"
      },
      "execution_count": 22,
      "outputs": [
        {
          "output_type": "stream",
          "name": "stdout",
          "text": [
            "Epoch 1/10\n",
            "21/21 [==============================] - 1s 12ms/step - loss: 0.3264 - accuracy: 0.8649 - val_loss: 0.3249 - val_accuracy: 0.8683\n",
            "Epoch 2/10\n",
            "21/21 [==============================] - 0s 4ms/step - loss: 0.3084 - accuracy: 0.8709 - val_loss: 0.3279 - val_accuracy: 0.8683\n",
            "Epoch 3/10\n",
            "21/21 [==============================] - 0s 4ms/step - loss: 0.2931 - accuracy: 0.8769 - val_loss: 0.3335 - val_accuracy: 0.8802\n",
            "Epoch 4/10\n",
            "21/21 [==============================] - 0s 5ms/step - loss: 0.2820 - accuracy: 0.8874 - val_loss: 0.3383 - val_accuracy: 0.8922\n",
            "Epoch 5/10\n",
            "21/21 [==============================] - 0s 4ms/step - loss: 0.2721 - accuracy: 0.8859 - val_loss: 0.3388 - val_accuracy: 0.8862\n",
            "Epoch 6/10\n",
            "21/21 [==============================] - 0s 4ms/step - loss: 0.2623 - accuracy: 0.8994 - val_loss: 0.3450 - val_accuracy: 0.8802\n",
            "Epoch 7/10\n",
            "21/21 [==============================] - 0s 4ms/step - loss: 0.2559 - accuracy: 0.8964 - val_loss: 0.3438 - val_accuracy: 0.8922\n",
            "Epoch 8/10\n",
            "21/21 [==============================] - 0s 5ms/step - loss: 0.2441 - accuracy: 0.8994 - val_loss: 0.3619 - val_accuracy: 0.8743\n",
            "Epoch 9/10\n",
            "21/21 [==============================] - 0s 4ms/step - loss: 0.2377 - accuracy: 0.9099 - val_loss: 0.3606 - val_accuracy: 0.8743\n",
            "Epoch 10/10\n",
            "21/21 [==============================] - 0s 4ms/step - loss: 0.2284 - accuracy: 0.9054 - val_loss: 0.3637 - val_accuracy: 0.8743\n"
          ]
        }
      ]
    },
    {
      "cell_type": "code",
      "source": [
        "test_loss, test_accuracy = model.evaluate(X_test, y_test)\n",
        "\n",
        "print(\"Test Loss:\", test_loss)\n",
        "print(\"Test Accuracy:\", test_accuracy)"
      ],
      "metadata": {
        "colab": {
          "base_uri": "https://localhost:8080/"
        },
        "id": "oa5g3JVFk73c",
        "outputId": "e4c121cf-2433-4058-a666-f85c1b66f373"
      },
      "execution_count": 24,
      "outputs": [
        {
          "output_type": "stream",
          "name": "stdout",
          "text": [
            "12/12 [==============================] - 0s 3ms/step - loss: 0.4913 - accuracy: 0.8655\n",
            "Test Loss: 0.49129119515419006\n",
            "Test Accuracy: 0.8655462265014648\n"
          ]
        }
      ]
    },
    {
      "cell_type": "markdown",
      "source": [
        "## Final optimization by increasing the epochs to 20 keeping the optimizer 'Adam'"
      ],
      "metadata": {
        "id": "Quvy7BpfoSuO"
      }
    },
    {
      "cell_type": "code",
      "source": [
        "history = model.fit(X_train, y_train, epochs=20, batch_size=32, validation_split=0.2)"
      ],
      "metadata": {
        "colab": {
          "base_uri": "https://localhost:8080/"
        },
        "id": "WORkyaIkmDAA",
        "outputId": "6041eea3-f48c-4878-93c3-ab20d2b093ea"
      },
      "execution_count": 23,
      "outputs": [
        {
          "output_type": "stream",
          "name": "stdout",
          "text": [
            "Epoch 1/20\n",
            "21/21 [==============================] - 0s 8ms/step - loss: 0.2213 - accuracy: 0.9069 - val_loss: 0.3762 - val_accuracy: 0.8683\n",
            "Epoch 2/20\n",
            "21/21 [==============================] - 0s 4ms/step - loss: 0.2110 - accuracy: 0.9084 - val_loss: 0.3828 - val_accuracy: 0.8623\n",
            "Epoch 3/20\n",
            "21/21 [==============================] - 0s 4ms/step - loss: 0.2059 - accuracy: 0.9144 - val_loss: 0.3935 - val_accuracy: 0.8443\n",
            "Epoch 4/20\n",
            "21/21 [==============================] - 0s 4ms/step - loss: 0.1980 - accuracy: 0.9204 - val_loss: 0.3977 - val_accuracy: 0.8443\n",
            "Epoch 5/20\n",
            "21/21 [==============================] - 0s 5ms/step - loss: 0.1885 - accuracy: 0.9294 - val_loss: 0.4016 - val_accuracy: 0.8683\n",
            "Epoch 6/20\n",
            "21/21 [==============================] - 0s 4ms/step - loss: 0.1808 - accuracy: 0.9324 - val_loss: 0.4150 - val_accuracy: 0.8443\n",
            "Epoch 7/20\n",
            "21/21 [==============================] - 0s 4ms/step - loss: 0.1748 - accuracy: 0.9369 - val_loss: 0.4226 - val_accuracy: 0.8623\n",
            "Epoch 8/20\n",
            "21/21 [==============================] - 0s 4ms/step - loss: 0.1688 - accuracy: 0.9444 - val_loss: 0.4305 - val_accuracy: 0.8563\n",
            "Epoch 9/20\n",
            "21/21 [==============================] - 0s 4ms/step - loss: 0.1630 - accuracy: 0.9489 - val_loss: 0.4260 - val_accuracy: 0.8683\n",
            "Epoch 10/20\n",
            "21/21 [==============================] - 0s 4ms/step - loss: 0.1599 - accuracy: 0.9505 - val_loss: 0.4454 - val_accuracy: 0.8683\n",
            "Epoch 11/20\n",
            "21/21 [==============================] - 0s 4ms/step - loss: 0.1503 - accuracy: 0.9550 - val_loss: 0.4464 - val_accuracy: 0.8743\n",
            "Epoch 12/20\n",
            "21/21 [==============================] - 0s 4ms/step - loss: 0.1461 - accuracy: 0.9580 - val_loss: 0.4690 - val_accuracy: 0.8563\n",
            "Epoch 13/20\n",
            "21/21 [==============================] - 0s 4ms/step - loss: 0.1408 - accuracy: 0.9565 - val_loss: 0.4640 - val_accuracy: 0.8683\n",
            "Epoch 14/20\n",
            "21/21 [==============================] - 0s 4ms/step - loss: 0.1356 - accuracy: 0.9565 - val_loss: 0.4872 - val_accuracy: 0.8623\n",
            "Epoch 15/20\n",
            "21/21 [==============================] - 0s 4ms/step - loss: 0.1304 - accuracy: 0.9625 - val_loss: 0.4839 - val_accuracy: 0.8563\n",
            "Epoch 16/20\n",
            "21/21 [==============================] - 0s 5ms/step - loss: 0.1262 - accuracy: 0.9565 - val_loss: 0.4868 - val_accuracy: 0.8743\n",
            "Epoch 17/20\n",
            "21/21 [==============================] - 0s 4ms/step - loss: 0.1197 - accuracy: 0.9655 - val_loss: 0.4921 - val_accuracy: 0.8563\n",
            "Epoch 18/20\n",
            "21/21 [==============================] - 0s 4ms/step - loss: 0.1150 - accuracy: 0.9700 - val_loss: 0.5039 - val_accuracy: 0.8623\n",
            "Epoch 19/20\n",
            "21/21 [==============================] - 0s 4ms/step - loss: 0.1117 - accuracy: 0.9700 - val_loss: 0.5166 - val_accuracy: 0.8683\n",
            "Epoch 20/20\n",
            "21/21 [==============================] - 0s 4ms/step - loss: 0.1069 - accuracy: 0.9685 - val_loss: 0.5244 - val_accuracy: 0.8683\n"
          ]
        }
      ]
    },
    {
      "cell_type": "code",
      "source": [
        "test_loss, test_accuracy = model.evaluate(X_test, y_test)\n",
        "\n",
        "print(\"Test Loss:\", test_loss)\n",
        "print(\"Test Accuracy:\", test_accuracy)"
      ],
      "metadata": {
        "colab": {
          "base_uri": "https://localhost:8080/"
        },
        "id": "1phbrePRmFpZ",
        "outputId": "b6eabebc-5bcd-41d3-cebe-40880c1fcb40"
      },
      "execution_count": 25,
      "outputs": [
        {
          "output_type": "stream",
          "name": "stdout",
          "text": [
            "12/12 [==============================] - 0s 2ms/step - loss: 0.4913 - accuracy: 0.8655\n",
            "Test Loss: 0.49129119515419006\n",
            "Test Accuracy: 0.8655462265014648\n"
          ]
        }
      ]
    },
    {
      "cell_type": "code",
      "source": [
        "X_test.head()"
      ],
      "metadata": {
        "colab": {
          "base_uri": "https://localhost:8080/",
          "height": 223
        },
        "id": "xkw5iZwymHmV",
        "outputId": "16236d3a-734b-464d-d748-19ec4db5f3f4"
      },
      "execution_count": 26,
      "outputs": [
        {
          "output_type": "execute_result",
          "data": {
            "text/plain": [
              "          age       sex  chest pain type  resting bp s  cholesterol  \\\n",
              "681  0.992042  0.555995        -2.387770      0.699643     0.223285   \n",
              "293 -0.076988  0.555995         0.820487     -0.117301    -0.279784   \n",
              "137 -1.573631  0.555995        -1.318351     -0.661931     0.302197   \n",
              "312  0.671333  0.555995         0.820487     -0.389616    -2.075047   \n",
              "725  0.564430  0.555995         0.820487      0.427328    -0.329104   \n",
              "\n",
              "     fasting blood sugar  resting ecg  max heart rate  exercise angina  \\\n",
              "681             1.919646     1.496197        0.402527        -0.795219   \n",
              "293            -0.520929    -0.802672        0.324117        -0.795219   \n",
              "137            -0.520929     0.346762        0.245707        -0.795219   \n",
              "312             1.919646    -0.802672       -1.165675        -0.795219   \n",
              "725            -0.520929    -0.802672        0.872988         1.257515   \n",
              "\n",
              "      oldpeak  ST slope  \n",
              "681  1.268304  2.254383  \n",
              "293 -0.849792 -1.023217  \n",
              "137  0.992031 -1.023217  \n",
              "312 -0.757701 -1.023217  \n",
              "725 -0.849792 -1.023217  "
            ],
            "text/html": [
              "\n",
              "  <div id=\"df-3e31a17a-b554-437b-8578-2cd7a1a47e91\" class=\"colab-df-container\">\n",
              "    <div>\n",
              "<style scoped>\n",
              "    .dataframe tbody tr th:only-of-type {\n",
              "        vertical-align: middle;\n",
              "    }\n",
              "\n",
              "    .dataframe tbody tr th {\n",
              "        vertical-align: top;\n",
              "    }\n",
              "\n",
              "    .dataframe thead th {\n",
              "        text-align: right;\n",
              "    }\n",
              "</style>\n",
              "<table border=\"1\" class=\"dataframe\">\n",
              "  <thead>\n",
              "    <tr style=\"text-align: right;\">\n",
              "      <th></th>\n",
              "      <th>age</th>\n",
              "      <th>sex</th>\n",
              "      <th>chest pain type</th>\n",
              "      <th>resting bp s</th>\n",
              "      <th>cholesterol</th>\n",
              "      <th>fasting blood sugar</th>\n",
              "      <th>resting ecg</th>\n",
              "      <th>max heart rate</th>\n",
              "      <th>exercise angina</th>\n",
              "      <th>oldpeak</th>\n",
              "      <th>ST slope</th>\n",
              "    </tr>\n",
              "  </thead>\n",
              "  <tbody>\n",
              "    <tr>\n",
              "      <th>681</th>\n",
              "      <td>0.992042</td>\n",
              "      <td>0.555995</td>\n",
              "      <td>-2.387770</td>\n",
              "      <td>0.699643</td>\n",
              "      <td>0.223285</td>\n",
              "      <td>1.919646</td>\n",
              "      <td>1.496197</td>\n",
              "      <td>0.402527</td>\n",
              "      <td>-0.795219</td>\n",
              "      <td>1.268304</td>\n",
              "      <td>2.254383</td>\n",
              "    </tr>\n",
              "    <tr>\n",
              "      <th>293</th>\n",
              "      <td>-0.076988</td>\n",
              "      <td>0.555995</td>\n",
              "      <td>0.820487</td>\n",
              "      <td>-0.117301</td>\n",
              "      <td>-0.279784</td>\n",
              "      <td>-0.520929</td>\n",
              "      <td>-0.802672</td>\n",
              "      <td>0.324117</td>\n",
              "      <td>-0.795219</td>\n",
              "      <td>-0.849792</td>\n",
              "      <td>-1.023217</td>\n",
              "    </tr>\n",
              "    <tr>\n",
              "      <th>137</th>\n",
              "      <td>-1.573631</td>\n",
              "      <td>0.555995</td>\n",
              "      <td>-1.318351</td>\n",
              "      <td>-0.661931</td>\n",
              "      <td>0.302197</td>\n",
              "      <td>-0.520929</td>\n",
              "      <td>0.346762</td>\n",
              "      <td>0.245707</td>\n",
              "      <td>-0.795219</td>\n",
              "      <td>0.992031</td>\n",
              "      <td>-1.023217</td>\n",
              "    </tr>\n",
              "    <tr>\n",
              "      <th>312</th>\n",
              "      <td>0.671333</td>\n",
              "      <td>0.555995</td>\n",
              "      <td>0.820487</td>\n",
              "      <td>-0.389616</td>\n",
              "      <td>-2.075047</td>\n",
              "      <td>1.919646</td>\n",
              "      <td>-0.802672</td>\n",
              "      <td>-1.165675</td>\n",
              "      <td>-0.795219</td>\n",
              "      <td>-0.757701</td>\n",
              "      <td>-1.023217</td>\n",
              "    </tr>\n",
              "    <tr>\n",
              "      <th>725</th>\n",
              "      <td>0.564430</td>\n",
              "      <td>0.555995</td>\n",
              "      <td>0.820487</td>\n",
              "      <td>0.427328</td>\n",
              "      <td>-0.329104</td>\n",
              "      <td>-0.520929</td>\n",
              "      <td>-0.802672</td>\n",
              "      <td>0.872988</td>\n",
              "      <td>1.257515</td>\n",
              "      <td>-0.849792</td>\n",
              "      <td>-1.023217</td>\n",
              "    </tr>\n",
              "  </tbody>\n",
              "</table>\n",
              "</div>\n",
              "    <div class=\"colab-df-buttons\">\n",
              "\n",
              "  <div class=\"colab-df-container\">\n",
              "    <button class=\"colab-df-convert\" onclick=\"convertToInteractive('df-3e31a17a-b554-437b-8578-2cd7a1a47e91')\"\n",
              "            title=\"Convert this dataframe to an interactive table.\"\n",
              "            style=\"display:none;\">\n",
              "\n",
              "  <svg xmlns=\"http://www.w3.org/2000/svg\" height=\"24px\" viewBox=\"0 -960 960 960\">\n",
              "    <path d=\"M120-120v-720h720v720H120Zm60-500h600v-160H180v160Zm220 220h160v-160H400v160Zm0 220h160v-160H400v160ZM180-400h160v-160H180v160Zm440 0h160v-160H620v160ZM180-180h160v-160H180v160Zm440 0h160v-160H620v160Z\"/>\n",
              "  </svg>\n",
              "    </button>\n",
              "\n",
              "  <style>\n",
              "    .colab-df-container {\n",
              "      display:flex;\n",
              "      gap: 12px;\n",
              "    }\n",
              "\n",
              "    .colab-df-convert {\n",
              "      background-color: #E8F0FE;\n",
              "      border: none;\n",
              "      border-radius: 50%;\n",
              "      cursor: pointer;\n",
              "      display: none;\n",
              "      fill: #1967D2;\n",
              "      height: 32px;\n",
              "      padding: 0 0 0 0;\n",
              "      width: 32px;\n",
              "    }\n",
              "\n",
              "    .colab-df-convert:hover {\n",
              "      background-color: #E2EBFA;\n",
              "      box-shadow: 0px 1px 2px rgba(60, 64, 67, 0.3), 0px 1px 3px 1px rgba(60, 64, 67, 0.15);\n",
              "      fill: #174EA6;\n",
              "    }\n",
              "\n",
              "    .colab-df-buttons div {\n",
              "      margin-bottom: 4px;\n",
              "    }\n",
              "\n",
              "    [theme=dark] .colab-df-convert {\n",
              "      background-color: #3B4455;\n",
              "      fill: #D2E3FC;\n",
              "    }\n",
              "\n",
              "    [theme=dark] .colab-df-convert:hover {\n",
              "      background-color: #434B5C;\n",
              "      box-shadow: 0px 1px 3px 1px rgba(0, 0, 0, 0.15);\n",
              "      filter: drop-shadow(0px 1px 2px rgba(0, 0, 0, 0.3));\n",
              "      fill: #FFFFFF;\n",
              "    }\n",
              "  </style>\n",
              "\n",
              "    <script>\n",
              "      const buttonEl =\n",
              "        document.querySelector('#df-3e31a17a-b554-437b-8578-2cd7a1a47e91 button.colab-df-convert');\n",
              "      buttonEl.style.display =\n",
              "        google.colab.kernel.accessAllowed ? 'block' : 'none';\n",
              "\n",
              "      async function convertToInteractive(key) {\n",
              "        const element = document.querySelector('#df-3e31a17a-b554-437b-8578-2cd7a1a47e91');\n",
              "        const dataTable =\n",
              "          await google.colab.kernel.invokeFunction('convertToInteractive',\n",
              "                                                    [key], {});\n",
              "        if (!dataTable) return;\n",
              "\n",
              "        const docLinkHtml = 'Like what you see? Visit the ' +\n",
              "          '<a target=\"_blank\" href=https://colab.research.google.com/notebooks/data_table.ipynb>data table notebook</a>'\n",
              "          + ' to learn more about interactive tables.';\n",
              "        element.innerHTML = '';\n",
              "        dataTable['output_type'] = 'display_data';\n",
              "        await google.colab.output.renderOutput(dataTable, element);\n",
              "        const docLink = document.createElement('div');\n",
              "        docLink.innerHTML = docLinkHtml;\n",
              "        element.appendChild(docLink);\n",
              "      }\n",
              "    </script>\n",
              "  </div>\n",
              "\n",
              "\n",
              "<div id=\"df-4dfd4559-ac9b-4f21-b503-8d34675771b3\">\n",
              "  <button class=\"colab-df-quickchart\" onclick=\"quickchart('df-4dfd4559-ac9b-4f21-b503-8d34675771b3')\"\n",
              "            title=\"Suggest charts\"\n",
              "            style=\"display:none;\">\n",
              "\n",
              "<svg xmlns=\"http://www.w3.org/2000/svg\" height=\"24px\"viewBox=\"0 0 24 24\"\n",
              "     width=\"24px\">\n",
              "    <g>\n",
              "        <path d=\"M19 3H5c-1.1 0-2 .9-2 2v14c0 1.1.9 2 2 2h14c1.1 0 2-.9 2-2V5c0-1.1-.9-2-2-2zM9 17H7v-7h2v7zm4 0h-2V7h2v10zm4 0h-2v-4h2v4z\"/>\n",
              "    </g>\n",
              "</svg>\n",
              "  </button>\n",
              "\n",
              "<style>\n",
              "  .colab-df-quickchart {\n",
              "      --bg-color: #E8F0FE;\n",
              "      --fill-color: #1967D2;\n",
              "      --hover-bg-color: #E2EBFA;\n",
              "      --hover-fill-color: #174EA6;\n",
              "      --disabled-fill-color: #AAA;\n",
              "      --disabled-bg-color: #DDD;\n",
              "  }\n",
              "\n",
              "  [theme=dark] .colab-df-quickchart {\n",
              "      --bg-color: #3B4455;\n",
              "      --fill-color: #D2E3FC;\n",
              "      --hover-bg-color: #434B5C;\n",
              "      --hover-fill-color: #FFFFFF;\n",
              "      --disabled-bg-color: #3B4455;\n",
              "      --disabled-fill-color: #666;\n",
              "  }\n",
              "\n",
              "  .colab-df-quickchart {\n",
              "    background-color: var(--bg-color);\n",
              "    border: none;\n",
              "    border-radius: 50%;\n",
              "    cursor: pointer;\n",
              "    display: none;\n",
              "    fill: var(--fill-color);\n",
              "    height: 32px;\n",
              "    padding: 0;\n",
              "    width: 32px;\n",
              "  }\n",
              "\n",
              "  .colab-df-quickchart:hover {\n",
              "    background-color: var(--hover-bg-color);\n",
              "    box-shadow: 0 1px 2px rgba(60, 64, 67, 0.3), 0 1px 3px 1px rgba(60, 64, 67, 0.15);\n",
              "    fill: var(--button-hover-fill-color);\n",
              "  }\n",
              "\n",
              "  .colab-df-quickchart-complete:disabled,\n",
              "  .colab-df-quickchart-complete:disabled:hover {\n",
              "    background-color: var(--disabled-bg-color);\n",
              "    fill: var(--disabled-fill-color);\n",
              "    box-shadow: none;\n",
              "  }\n",
              "\n",
              "  .colab-df-spinner {\n",
              "    border: 2px solid var(--fill-color);\n",
              "    border-color: transparent;\n",
              "    border-bottom-color: var(--fill-color);\n",
              "    animation:\n",
              "      spin 1s steps(1) infinite;\n",
              "  }\n",
              "\n",
              "  @keyframes spin {\n",
              "    0% {\n",
              "      border-color: transparent;\n",
              "      border-bottom-color: var(--fill-color);\n",
              "      border-left-color: var(--fill-color);\n",
              "    }\n",
              "    20% {\n",
              "      border-color: transparent;\n",
              "      border-left-color: var(--fill-color);\n",
              "      border-top-color: var(--fill-color);\n",
              "    }\n",
              "    30% {\n",
              "      border-color: transparent;\n",
              "      border-left-color: var(--fill-color);\n",
              "      border-top-color: var(--fill-color);\n",
              "      border-right-color: var(--fill-color);\n",
              "    }\n",
              "    40% {\n",
              "      border-color: transparent;\n",
              "      border-right-color: var(--fill-color);\n",
              "      border-top-color: var(--fill-color);\n",
              "    }\n",
              "    60% {\n",
              "      border-color: transparent;\n",
              "      border-right-color: var(--fill-color);\n",
              "    }\n",
              "    80% {\n",
              "      border-color: transparent;\n",
              "      border-right-color: var(--fill-color);\n",
              "      border-bottom-color: var(--fill-color);\n",
              "    }\n",
              "    90% {\n",
              "      border-color: transparent;\n",
              "      border-bottom-color: var(--fill-color);\n",
              "    }\n",
              "  }\n",
              "</style>\n",
              "\n",
              "  <script>\n",
              "    async function quickchart(key) {\n",
              "      const quickchartButtonEl =\n",
              "        document.querySelector('#' + key + ' button');\n",
              "      quickchartButtonEl.disabled = true;  // To prevent multiple clicks.\n",
              "      quickchartButtonEl.classList.add('colab-df-spinner');\n",
              "      try {\n",
              "        const charts = await google.colab.kernel.invokeFunction(\n",
              "            'suggestCharts', [key], {});\n",
              "      } catch (error) {\n",
              "        console.error('Error during call to suggestCharts:', error);\n",
              "      }\n",
              "      quickchartButtonEl.classList.remove('colab-df-spinner');\n",
              "      quickchartButtonEl.classList.add('colab-df-quickchart-complete');\n",
              "    }\n",
              "    (() => {\n",
              "      let quickchartButtonEl =\n",
              "        document.querySelector('#df-4dfd4559-ac9b-4f21-b503-8d34675771b3 button');\n",
              "      quickchartButtonEl.style.display =\n",
              "        google.colab.kernel.accessAllowed ? 'block' : 'none';\n",
              "    })();\n",
              "  </script>\n",
              "</div>\n",
              "\n",
              "    </div>\n",
              "  </div>\n"
            ],
            "application/vnd.google.colaboratory.intrinsic+json": {
              "type": "dataframe",
              "variable_name": "X_test",
              "summary": "{\n  \"name\": \"X_test\",\n  \"rows\": 357,\n  \"fields\": [\n    {\n      \"column\": \"age\",\n      \"properties\": {\n        \"dtype\": \"number\",\n        \"std\": 1.012347426822986,\n        \"min\": -2.6426613932211445,\n        \"max\": 2.488685065656095,\n        \"num_unique_values\": 47,\n        \"samples\": [\n          0.1368179386706936,\n          2.2748789632028767,\n          -1.4667278297284438\n        ],\n        \"semantic_type\": \"\",\n        \"description\": \"\"\n      }\n    },\n    {\n      \"column\": \"sex\",\n      \"properties\": {\n        \"dtype\": \"number\",\n        \"std\": 1.0001697594557706,\n        \"min\": -1.7985759491441715,\n        \"max\": 0.5559954254230058,\n        \"num_unique_values\": 2,\n        \"samples\": [\n          -1.7985759491441715,\n          0.5559954254230058\n        ],\n        \"semantic_type\": \"\",\n        \"description\": \"\"\n      }\n    },\n    {\n      \"column\": \"chest pain type\",\n      \"properties\": {\n        \"dtype\": \"number\",\n        \"std\": 1.0008287320668534,\n        \"min\": -2.3877698919832504,\n        \"max\": 0.8204869820777974,\n        \"num_unique_values\": 4,\n        \"samples\": [\n          0.8204869820777974,\n          -0.24893197594255195\n        ],\n        \"semantic_type\": \"\",\n        \"description\": \"\"\n      }\n    },\n    {\n      \"column\": \"resting bp s\",\n      \"properties\": {\n        \"dtype\": \"number\",\n        \"std\": 1.0079907882273589,\n        \"min\": -7.197485671406159,\n        \"max\": 3.6951056551911075,\n        \"num_unique_values\": 47,\n        \"samples\": [\n          -0.008375395851963124,\n          -1.4244122683096077\n        ],\n        \"semantic_type\": \"\",\n        \"description\": \"\"\n      }\n    },\n    {\n      \"column\": \"cholesterol\",\n      \"properties\": {\n        \"dtype\": \"number\",\n        \"std\": 0.9686815394130937,\n        \"min\": -2.075047275478282,\n        \"max\": 3.8729966239075395,\n        \"num_unique_values\": 155,\n        \"samples\": [\n          1.2886060739256402,\n          1.1406447828961421\n        ],\n        \"semantic_type\": \"\",\n        \"description\": \"\"\n      }\n    },\n    {\n      \"column\": \"fasting blood sugar\",\n      \"properties\": {\n        \"dtype\": \"number\",\n        \"std\": 1.028031316928399,\n        \"min\": -0.5209294783053857,\n        \"max\": 1.9196456365899255,\n        \"num_unique_values\": 2,\n        \"samples\": [\n          -0.5209294783053857,\n          1.9196456365899255\n        ],\n        \"semantic_type\": \"\",\n        \"description\": \"\"\n      }\n    },\n    {\n      \"column\": \"resting ecg\",\n      \"properties\": {\n        \"dtype\": \"number\",\n        \"std\": 0.9930502864960159,\n        \"min\": -0.8026722930547654,\n        \"max\": 1.4961966088349359,\n        \"num_unique_values\": 3,\n        \"samples\": [\n          1.4961966088349359,\n          -0.8026722930547654\n        ],\n        \"semantic_type\": \"\",\n        \"description\": \"\"\n      }\n    },\n    {\n      \"column\": \"max heart rate\",\n      \"properties\": {\n        \"dtype\": \"number\",\n        \"std\": 0.9838064445951392,\n        \"min\": -3.125928154678562,\n        \"max\": 2.166754946954107,\n        \"num_unique_values\": 100,\n        \"samples\": [\n          1.461063866736418,\n          0.9121930265671041\n        ],\n        \"semantic_type\": \"\",\n        \"description\": \"\"\n      }\n    },\n    {\n      \"column\": \"exercise angina\",\n      \"properties\": {\n        \"dtype\": \"number\",\n        \"std\": 0.995356044654283,\n        \"min\": -0.7952189093919958,\n        \"max\": 1.2575153686480802,\n        \"num_unique_values\": 2,\n        \"samples\": [\n          1.2575153686480802,\n          -0.7952189093919958\n        ],\n        \"semantic_type\": \"\",\n        \"description\": \"\"\n      }\n    },\n    {\n      \"column\": \"oldpeak\",\n      \"properties\": {\n        \"dtype\": \"number\",\n        \"std\": 1.0028938721433576,\n        \"min\": -3.2441622540861386,\n        \"max\": 4.859858910673777,\n        \"num_unique_values\": 40,\n        \"samples\": [\n          1.728759824289264,\n          0.8078483282938194\n        ],\n        \"semantic_type\": \"\",\n        \"description\": \"\"\n      }\n    },\n    {\n      \"column\": \"ST slope\",\n      \"properties\": {\n        \"dtype\": \"number\",\n        \"std\": 0.9738742746946243,\n        \"min\": -1.0232170132051146,\n        \"max\": 2.2543825714895998,\n        \"num_unique_values\": 3,\n        \"samples\": [\n          2.2543825714895998,\n          -1.0232170132051146\n        ],\n        \"semantic_type\": \"\",\n        \"description\": \"\"\n      }\n    }\n  ]\n}"
            }
          },
          "metadata": {},
          "execution_count": 26
        }
      ]
    },
    {
      "cell_type": "code",
      "source": [
        "y_test.head()"
      ],
      "metadata": {
        "colab": {
          "base_uri": "https://localhost:8080/"
        },
        "id": "3sXSImfTsQnd",
        "outputId": "5f137b3f-f519-42f6-96ed-5c81b6129e0f"
      },
      "execution_count": 27,
      "outputs": [
        {
          "output_type": "execute_result",
          "data": {
            "text/plain": [
              "681    0\n",
              "293    0\n",
              "137    0\n",
              "312    1\n",
              "725    1\n",
              "Name: target, dtype: int64"
            ]
          },
          "metadata": {},
          "execution_count": 27
        }
      ]
    },
    {
      "cell_type": "code",
      "source": [
        "custom_values = np.array([[0.671333,\t0.555995,\t0.820487,\t-0.389616,\t-2.075047,\t1.919646,\t-0.802672,\t-1.165675,\t-0.795219,\t-0.757701,\t-1.023217]])"
      ],
      "metadata": {
        "id": "1O8rHRDGrkd-"
      },
      "execution_count": 28,
      "outputs": []
    },
    {
      "cell_type": "code",
      "source": [
        "predictions = model.predict(np.array(X_test.iloc[0]).reshape(1,-1))\n",
        "print(predictions)\n",
        "if predictions[0][0] > 0.5:\n",
        "    print(\"Prediction: Heart Disease\")\n",
        "else:\n",
        "    print(\"Prediction: No Heart Disease\")\n"
      ],
      "metadata": {
        "colab": {
          "base_uri": "https://localhost:8080/"
        },
        "id": "KxoXTFWasHcU",
        "outputId": "15eb1405-ee5d-4466-c849-15a0342d2687"
      },
      "execution_count": 29,
      "outputs": [
        {
          "output_type": "stream",
          "name": "stdout",
          "text": [
            "1/1 [==============================] - 0s 102ms/step\n",
            "[[0.22563203]]\n",
            "Prediction: No Heart Disease\n"
          ]
        }
      ]
    },
    {
      "cell_type": "code",
      "source": [
        "predictions = model.predict(custom_values)\n",
        "print(predictions)\n",
        "if predictions[0][0] > 0.5:\n",
        "    print(\"Prediction: Heart Disease\")\n",
        "else:\n",
        "    print(\"Prediction: No Heart Disease\")"
      ],
      "metadata": {
        "colab": {
          "base_uri": "https://localhost:8080/"
        },
        "id": "1v1pdmi1sLll",
        "outputId": "940e8602-6283-4545-89da-2e355899fcd7"
      },
      "execution_count": 30,
      "outputs": [
        {
          "output_type": "stream",
          "name": "stdout",
          "text": [
            "1/1 [==============================] - 0s 21ms/step\n",
            "[[0.9950048]]\n",
            "Prediction: Heart Disease\n"
          ]
        }
      ]
    },
    {
      "cell_type": "code",
      "source": [],
      "metadata": {
        "id": "3slrWLCEuxfj"
      },
      "execution_count": null,
      "outputs": []
    }
  ]
}